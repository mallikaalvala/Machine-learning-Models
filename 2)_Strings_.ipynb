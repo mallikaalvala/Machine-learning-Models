{
  "cells": [
    {
      "cell_type": "code",
      "execution_count": null,
      "id": "992b2191-a14b-4f19-b8a1-4581bc98e868",
      "metadata": {
        "id": "992b2191-a14b-4f19-b8a1-4581bc98e868"
      },
      "outputs": [],
      "source": [
        "# strings : sequence of text/characters"
      ]
    },
    {
      "cell_type": "markdown",
      "source": [
        "Introduction to Python-Strings"
      ],
      "metadata": {
        "id": "EU0KtezRyXv-"
      },
      "id": "EU0KtezRyXv-"
    },
    {
      "cell_type": "code",
      "execution_count": 1,
      "id": "ec7249e5-df8b-4b1d-a225-0fd7b31bea1f",
      "metadata": {
        "id": "ec7249e5-df8b-4b1d-a225-0fd7b31bea1f"
      },
      "outputs": [],
      "source": [
        "# ''\n",
        "# \"\""
      ]
    },
    {
      "cell_type": "code",
      "execution_count": 3,
      "id": "d0991db3-3230-4910-822c-6b5a445a2c2a",
      "metadata": {
        "colab": {
          "base_uri": "https://localhost:8080/"
        },
        "id": "d0991db3-3230-4910-822c-6b5a445a2c2a",
        "outputId": "f2cf3ffa-1fb5-42e2-9d8d-8213610b305e"
      },
      "outputs": [
        {
          "output_type": "stream",
          "name": "stdout",
          "text": [
            "Hello Wold\n"
          ]
        }
      ],
      "source": [
        "a = 'Hello Wold'\n",
        "print(a)"
      ]
    },
    {
      "cell_type": "code",
      "execution_count": 4,
      "id": "9ceee01a-61b3-4cf5-961e-5367c58d8334",
      "metadata": {
        "colab": {
          "base_uri": "https://localhost:8080/"
        },
        "id": "9ceee01a-61b3-4cf5-961e-5367c58d8334",
        "outputId": "4a6534dc-a3e4-40f7-a1f8-f744426f9a3c"
      },
      "outputs": [
        {
          "output_type": "execute_result",
          "data": {
            "text/plain": [
              "str"
            ]
          },
          "metadata": {},
          "execution_count": 4
        }
      ],
      "source": [
        "type(a)"
      ]
    },
    {
      "cell_type": "code",
      "execution_count": 5,
      "id": "f42f6469-decf-45d6-8ad7-6567be5b81e0",
      "metadata": {
        "colab": {
          "base_uri": "https://localhost:8080/"
        },
        "id": "f42f6469-decf-45d6-8ad7-6567be5b81e0",
        "outputId": "6d8989a6-6493-4234-90d6-da21db609639"
      },
      "outputs": [
        {
          "output_type": "stream",
          "name": "stdout",
          "text": [
            "Hello World\n"
          ]
        }
      ],
      "source": [
        "b = \"Hello World\"\n",
        "print(b)"
      ]
    },
    {
      "cell_type": "code",
      "execution_count": 6,
      "id": "d56f06d6-6e2f-463c-bc04-3a4332df82e2",
      "metadata": {
        "colab": {
          "base_uri": "https://localhost:8080/"
        },
        "id": "d56f06d6-6e2f-463c-bc04-3a4332df82e2",
        "outputId": "7301ebf3-fa7e-4328-ac78-b6ddca46150b"
      },
      "outputs": [
        {
          "output_type": "execute_result",
          "data": {
            "text/plain": [
              "str"
            ]
          },
          "metadata": {},
          "execution_count": 6
        }
      ],
      "source": [
        "type(b)"
      ]
    },
    {
      "cell_type": "code",
      "execution_count": 7,
      "id": "dc90d55e-ea51-430b-b347-55f2efdc5886",
      "metadata": {
        "colab": {
          "base_uri": "https://localhost:8080/"
        },
        "id": "dc90d55e-ea51-430b-b347-55f2efdc5886",
        "outputId": "4949c91d-4547-4fe7-fe25-12565ac86806"
      },
      "outputs": [
        {
          "output_type": "execute_result",
          "data": {
            "text/plain": [
              "25"
            ]
          },
          "metadata": {},
          "execution_count": 7
        }
      ],
      "source": [
        "5*5 # = 25"
      ]
    },
    {
      "cell_type": "code",
      "execution_count": 9,
      "id": "5239f458-21f7-4959-84f9-154bfc26c538",
      "metadata": {
        "colab": {
          "base_uri": "https://localhost:8080/",
          "height": 35
        },
        "id": "5239f458-21f7-4959-84f9-154bfc26c538",
        "outputId": "eaed4c4d-3039-44cb-c30b-d62cd2c14a9f"
      },
      "outputs": [
        {
          "output_type": "execute_result",
          "data": {
            "text/plain": [
              "'333'"
            ],
            "application/vnd.google.colaboratory.intrinsic+json": {
              "type": "string"
            }
          },
          "metadata": {},
          "execution_count": 9
        }
      ],
      "source": [
        "'3'*3"
      ]
    },
    {
      "cell_type": "code",
      "execution_count": 10,
      "id": "200cf227-9cfe-4d69-afe3-064dad0214fb",
      "metadata": {
        "colab": {
          "base_uri": "https://localhost:8080/",
          "height": 35
        },
        "id": "200cf227-9cfe-4d69-afe3-064dad0214fb",
        "outputId": "34144df7-c1e6-48cc-b73b-db699d1201a2"
      },
      "outputs": [
        {
          "output_type": "execute_result",
          "data": {
            "text/plain": [
              "'10 10 10 10 10 '"
            ],
            "application/vnd.google.colaboratory.intrinsic+json": {
              "type": "string"
            }
          },
          "metadata": {},
          "execution_count": 10
        }
      ],
      "source": [
        "'10 '*5"
      ]
    },
    {
      "cell_type": "code",
      "execution_count": 11,
      "id": "4d7a3860-165d-4a1f-a87c-558855dde84e",
      "metadata": {
        "colab": {
          "base_uri": "https://localhost:8080/",
          "height": 35
        },
        "id": "4d7a3860-165d-4a1f-a87c-558855dde84e",
        "outputId": "dbe26220-85bd-4db7-b287-8de735364fac"
      },
      "outputs": [
        {
          "output_type": "execute_result",
          "data": {
            "text/plain": [
              "'Hey All Hey All Hey All Hey All Hey All '"
            ],
            "application/vnd.google.colaboratory.intrinsic+json": {
              "type": "string"
            }
          },
          "metadata": {},
          "execution_count": 11
        }
      ],
      "source": [
        "\"Hey All \"*5"
      ]
    },
    {
      "cell_type": "code",
      "execution_count": 12,
      "id": "ac77df58-376e-404a-907f-b09c92adfc54",
      "metadata": {
        "colab": {
          "base_uri": "https://localhost:8080/"
        },
        "id": "ac77df58-376e-404a-907f-b09c92adfc54",
        "outputId": "b5735af4-b485-4c7d-d69a-74a5fd2ac60b"
      },
      "outputs": [
        {
          "output_type": "execute_result",
          "data": {
            "text/plain": [
              "10"
            ]
          },
          "metadata": {},
          "execution_count": 12
        }
      ],
      "source": [
        "5 + 5 # = 10"
      ]
    },
    {
      "cell_type": "code",
      "execution_count": 13,
      "id": "b8188736-94b4-404f-9944-c73a149a833b",
      "metadata": {
        "colab": {
          "base_uri": "https://localhost:8080/",
          "height": 35
        },
        "id": "b8188736-94b4-404f-9944-c73a149a833b",
        "outputId": "0bd0a117-8fd5-4813-89ae-62dbc78f22ee"
      },
      "outputs": [
        {
          "output_type": "execute_result",
          "data": {
            "text/plain": [
              "'55'"
            ],
            "application/vnd.google.colaboratory.intrinsic+json": {
              "type": "string"
            }
          },
          "metadata": {},
          "execution_count": 13
        }
      ],
      "source": [
        "'5' + '5' # concatenate!"
      ]
    },
    {
      "cell_type": "code",
      "execution_count": 14,
      "id": "fb4f9be9-41d6-4116-8064-7146a05c4ee4",
      "metadata": {
        "colab": {
          "base_uri": "https://localhost:8080/",
          "height": 35
        },
        "id": "fb4f9be9-41d6-4116-8064-7146a05c4ee4",
        "outputId": "b72f1453-e2ac-43cb-e3b7-b305eea9bebe"
      },
      "outputs": [
        {
          "output_type": "execute_result",
          "data": {
            "text/plain": [
              "'Hi All'"
            ],
            "application/vnd.google.colaboratory.intrinsic+json": {
              "type": "string"
            }
          },
          "metadata": {},
          "execution_count": 14
        }
      ],
      "source": [
        "\"Hi\" + \" All\""
      ]
    },
    {
      "cell_type": "code",
      "execution_count": 15,
      "id": "19a1c142-9025-4ac1-9028-05a0ee0dc16b",
      "metadata": {
        "colab": {
          "base_uri": "https://localhost:8080/",
          "height": 141
        },
        "id": "19a1c142-9025-4ac1-9028-05a0ee0dc16b",
        "outputId": "a242d01c-66de-48b5-fa93-c54d9038cf86"
      },
      "outputs": [
        {
          "output_type": "error",
          "ename": "TypeError",
          "evalue": "can only concatenate str (not \"int\") to str",
          "traceback": [
            "\u001b[0;31m---------------------------------------------------------------------------\u001b[0m",
            "\u001b[0;31mTypeError\u001b[0m                                 Traceback (most recent call last)",
            "\u001b[0;32m/tmp/ipython-input-417106373.py\u001b[0m in \u001b[0;36m<cell line: 0>\u001b[0;34m()\u001b[0m\n\u001b[0;32m----> 1\u001b[0;31m \u001b[0;34m'5'\u001b[0m \u001b[0;34m+\u001b[0m \u001b[0;36m5\u001b[0m\u001b[0;34m\u001b[0m\u001b[0;34m\u001b[0m\u001b[0m\n\u001b[0m",
            "\u001b[0;31mTypeError\u001b[0m: can only concatenate str (not \"int\") to str"
          ]
        }
      ],
      "source": [
        "'5' + 5"
      ]
    },
    {
      "cell_type": "code",
      "execution_count": 16,
      "id": "c65e1d9b-8ecb-45dc-b59d-f84dce72132e",
      "metadata": {
        "id": "c65e1d9b-8ecb-45dc-b59d-f84dce72132e"
      },
      "outputs": [],
      "source": [
        "a = 1\n",
        "b = \"1\""
      ]
    },
    {
      "cell_type": "code",
      "execution_count": 19,
      "id": "97f7cc5d-e009-4784-91d6-b31163d11a0a",
      "metadata": {
        "colab": {
          "base_uri": "https://localhost:8080/"
        },
        "id": "97f7cc5d-e009-4784-91d6-b31163d11a0a",
        "outputId": "3f07621c-e6aa-4014-cd81-e062008adae9"
      },
      "outputs": [
        {
          "output_type": "execute_result",
          "data": {
            "text/plain": [
              "False"
            ]
          },
          "metadata": {},
          "execution_count": 19
        }
      ],
      "source": [
        "a == b"
      ]
    },
    {
      "cell_type": "code",
      "execution_count": 17,
      "id": "182870dd-5854-4eb1-b53e-25c9e4610a0f",
      "metadata": {
        "colab": {
          "base_uri": "https://localhost:8080/"
        },
        "id": "182870dd-5854-4eb1-b53e-25c9e4610a0f",
        "outputId": "e34b128b-07b6-45c6-e911-84dc72991d47"
      },
      "outputs": [
        {
          "output_type": "execute_result",
          "data": {
            "text/plain": [
              "True"
            ]
          },
          "metadata": {},
          "execution_count": 17
        }
      ],
      "source": [
        "a == int(b)"
      ]
    },
    {
      "cell_type": "code",
      "execution_count": 18,
      "id": "0e22b3ad-b994-4a6c-a35d-1e116fb74094",
      "metadata": {
        "colab": {
          "base_uri": "https://localhost:8080/"
        },
        "id": "0e22b3ad-b994-4a6c-a35d-1e116fb74094",
        "outputId": "ef8b5f4e-f056-4120-8d14-8329eba78712"
      },
      "outputs": [
        {
          "output_type": "execute_result",
          "data": {
            "text/plain": [
              "True"
            ]
          },
          "metadata": {},
          "execution_count": 18
        }
      ],
      "source": [
        "str(a) == b"
      ]
    },
    {
      "cell_type": "code",
      "execution_count": null,
      "id": "79fc89a7-2fc2-4636-a6fd-928cdad33af1",
      "metadata": {
        "id": "79fc89a7-2fc2-4636-a6fd-928cdad33af1"
      },
      "outputs": [],
      "source": [
        "# -- #"
      ]
    },
    {
      "cell_type": "code",
      "execution_count": 20,
      "id": "408e3134-89f5-4f7e-b580-9725fed90ba4",
      "metadata": {
        "id": "408e3134-89f5-4f7e-b580-9725fed90ba4"
      },
      "outputs": [],
      "source": [
        "my_string = \"heLLo worLd\""
      ]
    },
    {
      "cell_type": "code",
      "execution_count": 21,
      "id": "3cf68eb2-4d99-471b-a1f1-466ae4409942",
      "metadata": {
        "colab": {
          "base_uri": "https://localhost:8080/",
          "height": 35
        },
        "id": "3cf68eb2-4d99-471b-a1f1-466ae4409942",
        "outputId": "47d4d5d3-35b9-4fda-916a-c2cc189863b9"
      },
      "outputs": [
        {
          "output_type": "execute_result",
          "data": {
            "text/plain": [
              "'hello world'"
            ],
            "application/vnd.google.colaboratory.intrinsic+json": {
              "type": "string"
            }
          },
          "metadata": {},
          "execution_count": 21
        }
      ],
      "source": [
        "my_string.lower() # lower case"
      ]
    },
    {
      "cell_type": "code",
      "execution_count": 22,
      "id": "83a67eb8-e64b-4430-880b-32f3b54fae40",
      "metadata": {
        "colab": {
          "base_uri": "https://localhost:8080/",
          "height": 35
        },
        "id": "83a67eb8-e64b-4430-880b-32f3b54fae40",
        "outputId": "82cb456d-7458-4e98-8084-f4c0eea75803"
      },
      "outputs": [
        {
          "output_type": "execute_result",
          "data": {
            "text/plain": [
              "'HELLO WORLD'"
            ],
            "application/vnd.google.colaboratory.intrinsic+json": {
              "type": "string"
            }
          },
          "metadata": {},
          "execution_count": 22
        }
      ],
      "source": [
        "my_string.upper() # upper case"
      ]
    },
    {
      "cell_type": "code",
      "execution_count": 23,
      "id": "871bc2bb-c1a7-4252-aa92-c052a949ca57",
      "metadata": {
        "colab": {
          "base_uri": "https://localhost:8080/",
          "height": 35
        },
        "id": "871bc2bb-c1a7-4252-aa92-c052a949ca57",
        "outputId": "d16d1749-96a9-4906-d1ad-cd82c4e3e17b"
      },
      "outputs": [
        {
          "output_type": "execute_result",
          "data": {
            "text/plain": [
              "'Hello World'"
            ],
            "application/vnd.google.colaboratory.intrinsic+json": {
              "type": "string"
            }
          },
          "metadata": {},
          "execution_count": 23
        }
      ],
      "source": [
        "my_string.title() # convert 1st char of each word as upper case!"
      ]
    },
    {
      "cell_type": "code",
      "execution_count": 24,
      "id": "664dfef5-2983-4909-9455-0c5cf18506eb",
      "metadata": {
        "colab": {
          "base_uri": "https://localhost:8080/"
        },
        "id": "664dfef5-2983-4909-9455-0c5cf18506eb",
        "outputId": "00b4757a-f7b4-4d43-89b7-39116b35e3b3"
      },
      "outputs": [
        {
          "output_type": "stream",
          "name": "stdout",
          "text": [
            "heLLo worLd\n"
          ]
        }
      ],
      "source": [
        "print(my_string)"
      ]
    },
    {
      "cell_type": "code",
      "execution_count": 25,
      "id": "25dc920d-a212-4ceb-9359-0cdeb2765313",
      "metadata": {
        "colab": {
          "base_uri": "https://localhost:8080/",
          "height": 35
        },
        "id": "25dc920d-a212-4ceb-9359-0cdeb2765313",
        "outputId": "d7be5e85-c24a-423a-bebe-a4d80a29be37"
      },
      "outputs": [
        {
          "output_type": "execute_result",
          "data": {
            "text/plain": [
              "'HEllO WORlD'"
            ],
            "application/vnd.google.colaboratory.intrinsic+json": {
              "type": "string"
            }
          },
          "metadata": {},
          "execution_count": 25
        }
      ],
      "source": [
        "my_string.swapcase() # lower -> upper | upper -> lower"
      ]
    },
    {
      "cell_type": "code",
      "execution_count": 26,
      "id": "fa1a5f0b-df6e-43e6-a561-d837cf784102",
      "metadata": {
        "id": "fa1a5f0b-df6e-43e6-a561-d837cf784102"
      },
      "outputs": [],
      "source": [
        "a1 = \"hello\"\n",
        "a2 = \"   hello\"\n",
        "a3 = \"hello         \""
      ]
    },
    {
      "cell_type": "code",
      "execution_count": 27,
      "id": "be2586c4-095a-4652-952e-3245d524ab06",
      "metadata": {
        "colab": {
          "base_uri": "https://localhost:8080/"
        },
        "id": "be2586c4-095a-4652-952e-3245d524ab06",
        "outputId": "381c1c4b-be10-416d-824d-6e3705711b33"
      },
      "outputs": [
        {
          "output_type": "execute_result",
          "data": {
            "text/plain": [
              "False"
            ]
          },
          "metadata": {},
          "execution_count": 27
        }
      ],
      "source": [
        "a1 == a2 == a3"
      ]
    },
    {
      "cell_type": "code",
      "execution_count": 28,
      "id": "e061a97f-4098-40fa-bbda-4c999295a9db",
      "metadata": {
        "colab": {
          "base_uri": "https://localhost:8080/"
        },
        "id": "e061a97f-4098-40fa-bbda-4c999295a9db",
        "outputId": "67cb34bf-9551-4479-af4b-1f2ea7d739d3"
      },
      "outputs": [
        {
          "output_type": "execute_result",
          "data": {
            "text/plain": [
              "5"
            ]
          },
          "metadata": {},
          "execution_count": 28
        }
      ],
      "source": [
        "len(a1)"
      ]
    },
    {
      "cell_type": "code",
      "execution_count": 29,
      "id": "80385d5d-e8d2-45c8-b4f0-5aab74e4d5f6",
      "metadata": {
        "colab": {
          "base_uri": "https://localhost:8080/"
        },
        "id": "80385d5d-e8d2-45c8-b4f0-5aab74e4d5f6",
        "outputId": "9cfc0678-a252-4320-d6f4-a17de4fa5ec1"
      },
      "outputs": [
        {
          "output_type": "execute_result",
          "data": {
            "text/plain": [
              "8"
            ]
          },
          "metadata": {},
          "execution_count": 29
        }
      ],
      "source": [
        "len(a2)"
      ]
    },
    {
      "cell_type": "code",
      "execution_count": 30,
      "id": "dba34153-a9bb-4eec-8811-ac0ab64da8f4",
      "metadata": {
        "colab": {
          "base_uri": "https://localhost:8080/"
        },
        "id": "dba34153-a9bb-4eec-8811-ac0ab64da8f4",
        "outputId": "f8fc9ac8-f5c5-47cf-d66f-895d79201153"
      },
      "outputs": [
        {
          "output_type": "execute_result",
          "data": {
            "text/plain": [
              "14"
            ]
          },
          "metadata": {},
          "execution_count": 30
        }
      ],
      "source": [
        "len(a3)"
      ]
    },
    {
      "cell_type": "code",
      "execution_count": null,
      "id": "2e16923d-faeb-4896-ae52-dcdacd493c26",
      "metadata": {
        "id": "2e16923d-faeb-4896-ae52-dcdacd493c26"
      },
      "outputs": [],
      "source": [
        "# .strip() -> remove leading & trailing spaces from a string!"
      ]
    },
    {
      "cell_type": "code",
      "execution_count": 31,
      "id": "022f618a-7b42-4323-96e1-99cda7a19513",
      "metadata": {
        "colab": {
          "base_uri": "https://localhost:8080/",
          "height": 35
        },
        "id": "022f618a-7b42-4323-96e1-99cda7a19513",
        "outputId": "e2d53335-437e-4e9d-bf53-88220f4b5993"
      },
      "outputs": [
        {
          "output_type": "execute_result",
          "data": {
            "text/plain": [
              "'hello         '"
            ],
            "application/vnd.google.colaboratory.intrinsic+json": {
              "type": "string"
            }
          },
          "metadata": {},
          "execution_count": 31
        }
      ],
      "source": [
        "a3"
      ]
    },
    {
      "cell_type": "code",
      "execution_count": 32,
      "id": "69b12cf5-426e-4e41-aef6-445eb77e55d3",
      "metadata": {
        "colab": {
          "base_uri": "https://localhost:8080/",
          "height": 35
        },
        "id": "69b12cf5-426e-4e41-aef6-445eb77e55d3",
        "outputId": "0732cf0e-fb7b-478b-ff49-c262c947dfc3"
      },
      "outputs": [
        {
          "output_type": "execute_result",
          "data": {
            "text/plain": [
              "'hello'"
            ],
            "application/vnd.google.colaboratory.intrinsic+json": {
              "type": "string"
            }
          },
          "metadata": {},
          "execution_count": 32
        }
      ],
      "source": [
        "a3.strip()"
      ]
    },
    {
      "cell_type": "code",
      "execution_count": 33,
      "id": "ad5aa0df-6b59-4190-b91f-389570028170",
      "metadata": {
        "colab": {
          "base_uri": "https://localhost:8080/"
        },
        "id": "ad5aa0df-6b59-4190-b91f-389570028170",
        "outputId": "25a0056c-06dd-4d39-87a8-717c19e9edcc"
      },
      "outputs": [
        {
          "output_type": "execute_result",
          "data": {
            "text/plain": [
              "True"
            ]
          },
          "metadata": {},
          "execution_count": 33
        }
      ],
      "source": [
        "a1.strip() == a2.strip() == a3.strip()"
      ]
    },
    {
      "cell_type": "code",
      "execution_count": 34,
      "id": "bcc8e1f9-2c34-4a04-bb3d-5640b0425168",
      "metadata": {
        "id": "bcc8e1f9-2c34-4a04-bb3d-5640b0425168"
      },
      "outputs": [],
      "source": [
        "s = \"      hey       all       \""
      ]
    },
    {
      "cell_type": "code",
      "execution_count": 35,
      "id": "3b0ae1b1-6625-412d-9511-5a0d57e12f61",
      "metadata": {
        "colab": {
          "base_uri": "https://localhost:8080/",
          "height": 35
        },
        "id": "3b0ae1b1-6625-412d-9511-5a0d57e12f61",
        "outputId": "3cdec5cb-e21e-4750-ef52-43485f996f5b"
      },
      "outputs": [
        {
          "output_type": "execute_result",
          "data": {
            "text/plain": [
              "'hey       all'"
            ],
            "application/vnd.google.colaboratory.intrinsic+json": {
              "type": "string"
            }
          },
          "metadata": {},
          "execution_count": 35
        }
      ],
      "source": [
        "s.strip()\n",
        "# a. heyall\n",
        "# b. hey       all"
      ]
    },
    {
      "cell_type": "code",
      "execution_count": null,
      "id": "76a1ada8-af6e-44f7-a859-a7fe8b2f4584",
      "metadata": {
        "id": "76a1ada8-af6e-44f7-a859-a7fe8b2f4584"
      },
      "outputs": [],
      "source": [
        "# Take user inputs :"
      ]
    },
    {
      "cell_type": "code",
      "execution_count": 36,
      "id": "2d44eba5-f49b-48c0-96ce-cc42f60df79d",
      "metadata": {
        "colab": {
          "base_uri": "https://localhost:8080/"
        },
        "id": "2d44eba5-f49b-48c0-96ce-cc42f60df79d",
        "outputId": "97d9c8f9-1b60-4d63-dcb4-07e58f3a8a86"
      },
      "outputs": [
        {
          "name": "stdout",
          "output_type": "stream",
          "text": [
            "Enter name :Ram\n"
          ]
        }
      ],
      "source": [
        "name = input(\"Enter name :\")"
      ]
    },
    {
      "cell_type": "code",
      "execution_count": 37,
      "id": "46d3a05d-9fce-45b0-a725-8bfb6de0d629",
      "metadata": {
        "colab": {
          "base_uri": "https://localhost:8080/"
        },
        "id": "46d3a05d-9fce-45b0-a725-8bfb6de0d629",
        "outputId": "d980736e-f730-4f7c-b518-b486d4362972"
      },
      "outputs": [
        {
          "output_type": "stream",
          "name": "stdout",
          "text": [
            "Ram\n"
          ]
        }
      ],
      "source": [
        "print(name)"
      ]
    },
    {
      "cell_type": "code",
      "execution_count": 38,
      "id": "0e974d56-b347-4435-8d3f-bd4b3d64eeda",
      "metadata": {
        "colab": {
          "base_uri": "https://localhost:8080/"
        },
        "id": "0e974d56-b347-4435-8d3f-bd4b3d64eeda",
        "outputId": "9b8e8535-9ba1-4bc2-d743-f03c95cfc033"
      },
      "outputs": [
        {
          "output_type": "execute_result",
          "data": {
            "text/plain": [
              "str"
            ]
          },
          "metadata": {},
          "execution_count": 38
        }
      ],
      "source": [
        "type(name)"
      ]
    },
    {
      "cell_type": "code",
      "execution_count": null,
      "id": "d32d1b82-4eb4-4dd4-9577-69a6fd09e911",
      "metadata": {
        "id": "d32d1b82-4eb4-4dd4-9577-69a6fd09e911"
      },
      "outputs": [],
      "source": []
    },
    {
      "cell_type": "code",
      "execution_count": 39,
      "id": "9a7c699d-f408-478a-bfc5-acd2bd2c0d43",
      "metadata": {
        "colab": {
          "base_uri": "https://localhost:8080/"
        },
        "id": "9a7c699d-f408-478a-bfc5-acd2bd2c0d43",
        "outputId": "a21745ed-ee42-4165-bba1-74157f852b38"
      },
      "outputs": [
        {
          "name": "stdout",
          "output_type": "stream",
          "text": [
            "Enter Age :25\n"
          ]
        }
      ],
      "source": [
        "age = input(\"Enter Age :\")"
      ]
    },
    {
      "cell_type": "code",
      "execution_count": 40,
      "id": "408e9af8-14f9-4868-8b20-2fdfc3f1b7eb",
      "metadata": {
        "colab": {
          "base_uri": "https://localhost:8080/"
        },
        "id": "408e9af8-14f9-4868-8b20-2fdfc3f1b7eb",
        "outputId": "88001207-4feb-44a6-a0bf-a2494a3bbf53"
      },
      "outputs": [
        {
          "output_type": "stream",
          "name": "stdout",
          "text": [
            "25\n"
          ]
        }
      ],
      "source": [
        "print(age)"
      ]
    },
    {
      "cell_type": "code",
      "execution_count": 41,
      "id": "32bd1459-a293-4252-9538-e956bb164787",
      "metadata": {
        "colab": {
          "base_uri": "https://localhost:8080/"
        },
        "id": "32bd1459-a293-4252-9538-e956bb164787",
        "outputId": "a071d570-d704-4793-bf72-d6700cc47ddc"
      },
      "outputs": [
        {
          "output_type": "execute_result",
          "data": {
            "text/plain": [
              "str"
            ]
          },
          "metadata": {},
          "execution_count": 41
        }
      ],
      "source": [
        "type(age)"
      ]
    },
    {
      "cell_type": "code",
      "execution_count": null,
      "id": "884cb728-4df8-4658-9830-41593e7bda57",
      "metadata": {
        "id": "884cb728-4df8-4658-9830-41593e7bda57"
      },
      "outputs": [],
      "source": []
    },
    {
      "cell_type": "code",
      "execution_count": 42,
      "id": "57556dbe-0deb-4383-b9da-f271dd6f9ed1",
      "metadata": {
        "colab": {
          "base_uri": "https://localhost:8080/"
        },
        "id": "57556dbe-0deb-4383-b9da-f271dd6f9ed1",
        "outputId": "02d523c0-17e2-4199-b5d4-6065b7c27508"
      },
      "outputs": [
        {
          "name": "stdout",
          "output_type": "stream",
          "text": [
            "Enter Age :25\n"
          ]
        }
      ],
      "source": [
        "age2 = int(input(\"Enter Age :\"))"
      ]
    },
    {
      "cell_type": "code",
      "execution_count": 43,
      "id": "283eddac-015c-49a2-a109-9361fa881608",
      "metadata": {
        "colab": {
          "base_uri": "https://localhost:8080/"
        },
        "id": "283eddac-015c-49a2-a109-9361fa881608",
        "outputId": "aa2f15e2-cdd2-41e6-921a-74f8cd58afa4"
      },
      "outputs": [
        {
          "output_type": "stream",
          "name": "stdout",
          "text": [
            "25\n"
          ]
        }
      ],
      "source": [
        "print(age2)"
      ]
    },
    {
      "cell_type": "code",
      "execution_count": 44,
      "id": "d6024247-783c-4bd3-a21e-94401affb0c1",
      "metadata": {
        "colab": {
          "base_uri": "https://localhost:8080/"
        },
        "id": "d6024247-783c-4bd3-a21e-94401affb0c1",
        "outputId": "40173774-c3fc-4847-e43b-035f2deff582"
      },
      "outputs": [
        {
          "output_type": "execute_result",
          "data": {
            "text/plain": [
              "int"
            ]
          },
          "metadata": {},
          "execution_count": 44
        }
      ],
      "source": [
        "type(age2)"
      ]
    },
    {
      "cell_type": "code",
      "execution_count": null,
      "id": "ba8c8fe0-89a4-4732-9b2b-1a7f907f553c",
      "metadata": {
        "id": "ba8c8fe0-89a4-4732-9b2b-1a7f907f553c"
      },
      "outputs": [],
      "source": []
    },
    {
      "cell_type": "code",
      "execution_count": 45,
      "id": "94b6ec97-d359-4046-8da3-d00e815559fc",
      "metadata": {
        "colab": {
          "base_uri": "https://localhost:8080/"
        },
        "id": "94b6ec97-d359-4046-8da3-d00e815559fc",
        "outputId": "7a107b4a-32de-40c6-928b-aaa707bf2ef5"
      },
      "outputs": [
        {
          "name": "stdout",
          "output_type": "stream",
          "text": [
            "Enter age :24\n"
          ]
        }
      ],
      "source": [
        "age3 = input(\"Enter age :\")"
      ]
    },
    {
      "cell_type": "code",
      "execution_count": 46,
      "id": "7a3271dd-761f-4bfe-a466-0a0f8787a527",
      "metadata": {
        "colab": {
          "base_uri": "https://localhost:8080/"
        },
        "id": "7a3271dd-761f-4bfe-a466-0a0f8787a527",
        "outputId": "af06b8e0-eeb9-43f9-b9f9-91592d846c00"
      },
      "outputs": [
        {
          "output_type": "execute_result",
          "data": {
            "text/plain": [
              "str"
            ]
          },
          "metadata": {},
          "execution_count": 46
        }
      ],
      "source": [
        "type(age3)"
      ]
    },
    {
      "cell_type": "code",
      "execution_count": null,
      "id": "24ba5ea4-1ec0-4b50-81f8-79c8c6ee289a",
      "metadata": {
        "id": "24ba5ea4-1ec0-4b50-81f8-79c8c6ee289a"
      },
      "outputs": [],
      "source": []
    },
    {
      "cell_type": "code",
      "execution_count": null,
      "id": "b4db3509-f742-4f96-a718-dbee0671d7cb",
      "metadata": {
        "id": "b4db3509-f742-4f96-a718-dbee0671d7cb"
      },
      "outputs": [],
      "source": [
        "# truthy : if a value evaluates to be True, truthy!\n",
        "# falsy  : if a value evaluates to be False, falsy!"
      ]
    },
    {
      "cell_type": "code",
      "execution_count": 47,
      "id": "58708690-f3ff-4669-897c-9fa1cefe2794",
      "metadata": {
        "colab": {
          "base_uri": "https://localhost:8080/"
        },
        "id": "58708690-f3ff-4669-897c-9fa1cefe2794",
        "outputId": "2edc26a0-d765-4f50-ecb4-4734f5e96394"
      },
      "outputs": [
        {
          "output_type": "execute_result",
          "data": {
            "text/plain": [
              "False"
            ]
          },
          "metadata": {},
          "execution_count": 47
        }
      ],
      "source": [
        "bool(0)"
      ]
    },
    {
      "cell_type": "code",
      "execution_count": 48,
      "id": "5d01a44b-67b6-4dff-9f26-f71e7cf812ab",
      "metadata": {
        "colab": {
          "base_uri": "https://localhost:8080/"
        },
        "id": "5d01a44b-67b6-4dff-9f26-f71e7cf812ab",
        "outputId": "978a1daf-fd1c-493e-9b84-47511de1ca03"
      },
      "outputs": [
        {
          "output_type": "execute_result",
          "data": {
            "text/plain": [
              "True"
            ]
          },
          "metadata": {},
          "execution_count": 48
        }
      ],
      "source": [
        "bool(1)"
      ]
    },
    {
      "cell_type": "code",
      "execution_count": null,
      "id": "bde3db70-249c-4609-84d2-adeeb714ff38",
      "metadata": {
        "id": "bde3db70-249c-4609-84d2-adeeb714ff38"
      },
      "outputs": [],
      "source": []
    },
    {
      "cell_type": "code",
      "execution_count": null,
      "id": "ae104658-19f5-4b77-8816-b00076b2c2a0",
      "metadata": {
        "id": "ae104658-19f5-4b77-8816-b00076b2c2a0"
      },
      "outputs": [],
      "source": [
        "# Qs :"
      ]
    },
    {
      "cell_type": "code",
      "execution_count": null,
      "id": "8ea1064b-d7b7-4606-bf33-b41b212d4623",
      "metadata": {
        "id": "8ea1064b-d7b7-4606-bf33-b41b212d4623"
      },
      "outputs": [],
      "source": [
        "# Which of the following is a valid variable name in Python?\n",
        "# a) 1variable\n",
        "# b) my_var --> CORRECT!\n",
        "# c) my var\n",
        "# d) my-var"
      ]
    },
    {
      "cell_type": "code",
      "execution_count": null,
      "id": "94b5c002-8152-4e9b-b3d3-e07bead588ac",
      "metadata": {
        "id": "94b5c002-8152-4e9b-b3d3-e07bead588ac"
      },
      "outputs": [],
      "source": []
    },
    {
      "cell_type": "code",
      "execution_count": null,
      "id": "e16b3203-a73e-48b2-98c6-9556b7c3b566",
      "metadata": {
        "id": "e16b3203-a73e-48b2-98c6-9556b7c3b566"
      },
      "outputs": [],
      "source": [
        "# Take user input my_number as 50.5 and\n",
        "# convert it to int."
      ]
    },
    {
      "cell_type": "code",
      "execution_count": 49,
      "id": "6bc94cc5-e90c-471c-9a3e-01872c112a3a",
      "metadata": {
        "colab": {
          "base_uri": "https://localhost:8080/"
        },
        "id": "6bc94cc5-e90c-471c-9a3e-01872c112a3a",
        "outputId": "eb7b39da-d763-45f3-e818-21ae67004f24"
      },
      "outputs": [
        {
          "name": "stdout",
          "output_type": "stream",
          "text": [
            "Enter number -35\n"
          ]
        }
      ],
      "source": [
        "my_number = float(input(\"Enter number -\"))"
      ]
    },
    {
      "cell_type": "code",
      "execution_count": 50,
      "id": "69e54d89-66d4-4dcd-a18f-99840e834815",
      "metadata": {
        "colab": {
          "base_uri": "https://localhost:8080/"
        },
        "id": "69e54d89-66d4-4dcd-a18f-99840e834815",
        "outputId": "dc759eb7-c38f-4f03-bdbe-9118c4bb274a"
      },
      "outputs": [
        {
          "output_type": "stream",
          "name": "stdout",
          "text": [
            "35.0\n"
          ]
        }
      ],
      "source": [
        "print(my_number)"
      ]
    },
    {
      "cell_type": "code",
      "execution_count": 51,
      "id": "4be0c79c-5b28-408e-9966-12ab131a08d0",
      "metadata": {
        "colab": {
          "base_uri": "https://localhost:8080/"
        },
        "id": "4be0c79c-5b28-408e-9966-12ab131a08d0",
        "outputId": "9bb1143a-3c3b-45c6-ec9a-256d12a13119"
      },
      "outputs": [
        {
          "output_type": "execute_result",
          "data": {
            "text/plain": [
              "35"
            ]
          },
          "metadata": {},
          "execution_count": 51
        }
      ],
      "source": [
        "my_number_int = int(my_number)\n",
        "my_number_int"
      ]
    },
    {
      "cell_type": "code",
      "execution_count": null,
      "id": "e0c5f904-7a0e-4f8e-a87f-bad2c717d942",
      "metadata": {
        "id": "e0c5f904-7a0e-4f8e-a87f-bad2c717d942"
      },
      "outputs": [],
      "source": []
    },
    {
      "cell_type": "code",
      "execution_count": null,
      "id": "ee56e87a-8d1e-47a2-a26a-ed223fccf1a2",
      "metadata": {
        "id": "ee56e87a-8d1e-47a2-a26a-ed223fccf1a2"
      },
      "outputs": [],
      "source": [
        "# Write a Python program that takes two input as\n",
        "# string and then concatenate"
      ]
    },
    {
      "cell_type": "code",
      "execution_count": 52,
      "id": "3404eae8-7198-47c7-84bf-c3a428dc981a",
      "metadata": {
        "colab": {
          "base_uri": "https://localhost:8080/"
        },
        "id": "3404eae8-7198-47c7-84bf-c3a428dc981a",
        "outputId": "a3a330ad-3d97-4fcc-d196-b8734e88d8e6"
      },
      "outputs": [
        {
          "name": "stdout",
          "output_type": "stream",
          "text": [
            "enter :25\n",
            "enter :22\n"
          ]
        }
      ],
      "source": [
        "s1 = input(\"enter :\")\n",
        "s2 = input(\"enter :\")"
      ]
    },
    {
      "cell_type": "code",
      "execution_count": 54,
      "id": "00c58539-e5cd-463b-80e5-baaceed3d9df",
      "metadata": {
        "colab": {
          "base_uri": "https://localhost:8080/"
        },
        "id": "00c58539-e5cd-463b-80e5-baaceed3d9df",
        "outputId": "625e621a-aa01-46b9-ecb0-60165b6630e6"
      },
      "outputs": [
        {
          "output_type": "stream",
          "name": "stdout",
          "text": [
            "25\n",
            "22\n"
          ]
        }
      ],
      "source": [
        "print(s1)\n",
        "print(s2)"
      ]
    },
    {
      "cell_type": "code",
      "execution_count": 53,
      "id": "3cf781eb-db92-43d9-9637-649766963e0b",
      "metadata": {
        "colab": {
          "base_uri": "https://localhost:8080/",
          "height": 35
        },
        "id": "3cf781eb-db92-43d9-9637-649766963e0b",
        "outputId": "a1e922eb-307e-426e-a635-15a22b11a576"
      },
      "outputs": [
        {
          "output_type": "execute_result",
          "data": {
            "text/plain": [
              "'2522'"
            ],
            "application/vnd.google.colaboratory.intrinsic+json": {
              "type": "string"
            }
          },
          "metadata": {},
          "execution_count": 53
        }
      ],
      "source": [
        "s1 + s2"
      ]
    }
  ],
  "metadata": {
    "kernelspec": {
      "display_name": "Python [conda env:anaconda3-genai]",
      "language": "python",
      "name": "conda-env-anaconda3-genai-py"
    },
    "language_info": {
      "codemirror_mode": {
        "name": "ipython",
        "version": 3
      },
      "file_extension": ".py",
      "mimetype": "text/x-python",
      "name": "python",
      "nbconvert_exporter": "python",
      "pygments_lexer": "ipython3",
      "version": "3.11.5"
    },
    "colab": {
      "provenance": []
    }
  },
  "nbformat": 4,
  "nbformat_minor": 5
}